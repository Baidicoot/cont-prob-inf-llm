{
 "cells": [
  {
   "cell_type": "code",
   "execution_count": null,
   "metadata": {},
   "outputs": [],
   "source": [
    "from transformers import GPT2LMHeadModel, GPT2Tokenizer\n",
    "import torch\n",
    "\n",
    "from algos.annealed_smc import AnnealedSMC\n",
    "from utils import build_relaxed_single_token_prior, build_suffix_likelihood"
   ]
  },
  {
   "cell_type": "code",
   "execution_count": null,
   "metadata": {},
   "outputs": [],
   "source": [
    "device = torch.device('cuda')\n",
    "\n",
    "model = GPT2LMHeadModel.from_pretrained('gpt2')\n",
    "tokenizer = GPT2Tokenizer.from_pretrained('gpt2')\n",
    "\n",
    "suffix = \" went to the shop\"\n",
    "suffix_ids = tokenizer.encode(suffix, add_special_tokens=False)\n",
    "\n",
    "log_prior, grad_log_prior, sample_prior = build_relaxed_single_token_prior(model, tokenizer, device)\n",
    "log_like, grad_log_like = build_suffix_likelihood(model, tokenizer, suffix_ids, device)\n",
    "\n",
    "def log_target(x, sigma):\n",
    "    with torch.no_grad():\n",
    "        return log_like(x) + log_prior(x, sigma)\n",
    "\n",
    "def grad_log_target(x, sigma):\n",
    "    return grad_log_like(x) + grad_log_prior(x, sigma)"
   ]
  },
  {
   "cell_type": "code",
   "execution_count": null,
   "metadata": {},
   "outputs": [],
   "source": [
    "N = 16\n",
    "d = 768 # gpt2 embedding dimension\n",
    "sigma0 = 10.0\n",
    "sigma_target = 0.1\n",
    "\n",
    "def sample_prior(N, d):\n",
    "    return prior_factory(sigma0)[2](N)\n",
    "\n",
    "sampler = AnnealedSMC(\n",
    "    N=N,\n",
    "    x_dim=d,\n",
    "    sigma_0=sigma0,\n",
    "    sigma_target=sigma_target,\n",
    "    alpha=0.5,\n",
    "    mala_step_size=0.2,\n",
    "    mala_steps=3,\n",
    "    ess_min_frac=0.5,\n",
    "    device='cpu'\n",
    ")\n",
    "\n",
    "final_particles = sampler.run(init_sampler=sample_prior, log_target=log_target, grad_log_target=grad_log_target)"
   ]
  }
 ],
 "metadata": {
  "kernelspec": {
   "display_name": ".venv",
   "language": "python",
   "name": "python3"
  },
  "language_info": {
   "name": "python",
   "version": "3.11.6"
  }
 },
 "nbformat": 4,
 "nbformat_minor": 2
}
